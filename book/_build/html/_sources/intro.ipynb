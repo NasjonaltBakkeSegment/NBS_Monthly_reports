{
 "cells": [
  {
   "cell_type": "code",
   "execution_count": null,
   "id": "fbe68e74",
   "metadata": {
    "tags": [
     "remove-input"
    ]
   },
   "outputs": [],
   "source": [
    "from datetime import datetime\n",
    "from IPython.display import Markdown as md\n",
    "from IPython.display import display_markdown\n",
    "\n",
    "todays_date = str(datetime.now().date())\n",
    "month = datetime.now().strftime(\"%B\")\n",
    "year = str(datetime.now().year)\n",
    "\n",
    "display_markdown('''# NBS mothly report for {month} {year}''')\n",
    "md(\"# NBS mothly report for {} {}\".format(month, year))"
   ]
  },
  {
   "cell_type": "markdown",
   "id": "8abe568e",
   "metadata": {},
   "source": [
    "# An Overview\n",
    "\n",
    "## The NBS project\n",
    "\n",
    "The European Space Agency (ESA) is in charge for the distribution of data from the Sentinel satellite constellation. In order to maintain a reliable and sustainable data hub, the creation and operation of multiples data hubs is necessary. With the purpose of keeping and maintaining a reliable and online source of data from the ESA Sentinel constellation for an Area Of Interest (AOI) covering Norway, the Norwegian Space Agency (NOSA) funded the National Bakke Segment (NBS) project. The map below is indicating the AOI in red.  "
   ]
  },
  {
   "cell_type": "code",
   "execution_count": null,
   "id": "d15e8f3a",
   "metadata": {
    "jupyter": {
     "source_hidden": true
    },
    "tags": [
     "remove-input"
    ]
   },
   "outputs": [],
   "source": [
    "from shapely.geometry.polygon import Polygon\n",
    "#from shapely import Polygon\n",
    "import cartopy.crs as ccrs\n",
    "import cartopy.feature as cfeature\n",
    "import matplotlib.pyplot as plt\n",
    "\n",
    "plt.rcParams[\"figure.figsize\"] = (20,15)\n",
    "plt.rcParams.update({'font.size': 22})\n",
    "\n",
    "bounds = [(-100., 160., 50., 90.)]\n",
    "#plt.figure(figsize=(5, 3))\n",
    "ax = plt.axes(projection=ccrs.Orthographic(central_longitude=10.0, central_latitude=60.0, globe=None))\n",
    "ax.set_extent(*bounds, crs=ccrs.PlateCarree())\n",
    "ax.add_feature(cfeature.COASTLINE.with_scale('50m'), linewidth=0.75)\n",
    "#ax.add_feature(cfeature.STATES, linewidth=0.5)\n",
    "\n",
    "# add in the polygon\n",
    "polygon = Polygon([(-20.263238824222373,84.8852877777822),\n",
    "                    (-36.25445787748578, 67.02581594412311), \n",
    "                    (11.148084316116405, 52.31593720759386), \n",
    "                    (45.98609725358305, 63.94940066151824), \n",
    "                    (89.96194965005743, 84.8341192704811), \n",
    "                    (-20.263238824222373, 84.8852877777822),\n",
    "                    (-20.263238824222373, 84.8852877777822)])\n",
    "ax.add_geometries([polygon], crs=ccrs.PlateCarree(), facecolor = 'r', edgecolor='red', alpha=0.5)\n",
    "ax.gridlines(draw_labels=True)\n",
    "\n",
    "plt.show()"
   ]
  },
  {
   "cell_type": "markdown",
   "id": "781c8eea",
   "metadata": {},
   "source": [
    "Therefore, MET Norway was contracted for the operation of the NBS data. The NBS is implementd as a part of the operational infrastructure at MET Norway. As so it follows the normal procedures for planning, implementation and testing , and operationalisation. User access to the NBS is configured according to NOSA requirements. This includes the use of ESA's DHuS software for synchronization between ESA and user accessibility.\n",
    "\n",
    "The present report is part of MET Norway duties to inform about its perfomance as operator of the NBS. Monthly reports will be created mothly to regularly comunicate the status of MET Norway's NBS.  \n",
    "\n",
    "## The Sentinel products\n",
    "\n",
    "The NBS project includes the management of the data received from Sentinel-1 (S1), Sentinel-2, Sentinel-3 (S3) and Sentinel-5p (S5p) satellites for the especified AOI. Each of the Sentinels has different operational modes for achieving images with different carachteristics. Those images can have different processing levels. The products included in the DHR are Level-1 images for all the Sentinels except for Sentinel-2. For which Level-1 (S2L1C) and Level-2 (S2L2A) are both included in the NBS.\n",
    "\n",
    "## BackEnds and FrontEnds\n",
    "\n",
    "As operator of NBS, the source of Sentinel data is ESA; and ESA spreads the Sentinel data trough the data hub Scihub (scihub.copernicus.eu).Scihub is ESA's FrontEnd (FE) for Sentinel data accesibility. MET Norway uses the DHS software for synchronization and creation of other FrontEnds. During the synchronization process a BackEnd (BE) is created. MET Norway is also running two FEs, colhub.met.no and colhub-archive.met.no. The colhub FE includes or will include all the products mentioned for Sentinel global products plus S3 marine products from Copernicus, S1 products from the Kongsberg Satellite Services (KSAT), and S2 Digital Elevation Model (DEM). The colhub-archive FE includes data from S1, S2L1C, S2L2A, S2DEM, S3, S5p products for the AOI. An important distiction between both FEs is that colhub-archive will allways maintain available online all the products for the AOI.  \n",
    " \n",
    "In order to maintain an accountability on products synchronized from ESA's Scihub and available for users at the different FEs, it is necessary to understand the architecture of MET Norway's DHR. \n"
   ]
  }
 ],
 "metadata": {
  "celltoolbar": "Edit Metadata",
  "jupytext": {
   "cell_metadata_filter": "-all",
   "notebook_metadata_filter": "-all"
  },
  "kernelspec": {
   "display_name": "Python 3 (ipykernel)",
   "language": "python",
   "name": "python3"
  },
  "language_info": {
   "codemirror_mode": {
    "name": "ipython",
    "version": 3
   },
   "file_extension": ".py",
   "mimetype": "text/x-python",
   "name": "python",
   "nbconvert_exporter": "python",
   "pygments_lexer": "ipython3",
   "version": "3.7.6"
  }
 },
 "nbformat": 4,
 "nbformat_minor": 5
}
