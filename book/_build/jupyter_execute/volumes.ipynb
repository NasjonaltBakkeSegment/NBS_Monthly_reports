{
 "cells": [
  {
   "cell_type": "markdown",
   "id": "c2e3f90d-42da-455b-a2db-4b9f3daf7264",
   "metadata": {},
   "source": [
    "# Data volumes for NBS"
   ]
  },
  {
   "cell_type": "code",
   "execution_count": 1,
   "id": "40f6f1c3-9fc5-4e77-b99c-cd48bf5062d1",
   "metadata": {
    "jupyter": {
     "source_hidden": true
    },
    "tags": [
     "remove-input"
    ]
   },
   "outputs": [],
   "source": [
    "import pathlib\n",
    "import datetime as dt\n",
    "import pandas as pd\n",
    "import matplotlib.pyplot as plt\n",
    "import matplotlib.dates as mdates\n",
    "import copy\n",
    "import os\n",
    "import subprocess\n",
    "from IPython.display import Markdown as md\n",
    "\n",
    "plt.rcParams[\"figure.figsize\"] = (20,15)\n",
    "plt.rcParams.update({'font.size': 22})"
   ]
  },
  {
   "cell_type": "code",
   "execution_count": 2,
   "id": "ba619cf4",
   "metadata": {
    "jupyter": {
     "source_hidden": true
    },
    "tags": [
     "remove-input"
    ]
   },
   "outputs": [
    {
     "ename": "OptionError",
     "evalue": "Pattern matched multiple keys",
     "output_type": "error",
     "traceback": [
      "\u001b[0;31m---------------------------------------------------------------------------\u001b[0m",
      "\u001b[0;31mOptionError\u001b[0m                               Traceback (most recent call last)",
      "Cell \u001b[0;32mIn[2], line 2\u001b[0m\n\u001b[1;32m      1\u001b[0m \u001b[38;5;66;03m# show all rows, all columns\u001b[39;00m\n\u001b[0;32m----> 2\u001b[0m pd\u001b[38;5;241m.\u001b[39mset_option(\u001b[38;5;124m\"\u001b[39m\u001b[38;5;124mmax_rows\u001b[39m\u001b[38;5;124m\"\u001b[39m, \u001b[38;5;28;01mNone\u001b[39;00m)\n\u001b[1;32m      3\u001b[0m pd\u001b[38;5;241m.\u001b[39mset_option(\u001b[38;5;124m\"\u001b[39m\u001b[38;5;124mmax_columns\u001b[39m\u001b[38;5;124m\"\u001b[39m, \u001b[38;5;28;01mNone\u001b[39;00m)\n\u001b[1;32m      4\u001b[0m pd\u001b[38;5;241m.\u001b[39mset_option(\u001b[38;5;124m'\u001b[39m\u001b[38;5;124mmax_colwidth\u001b[39m\u001b[38;5;124m'\u001b[39m, \u001b[38;5;28;01mNone\u001b[39;00m)\n",
      "File \u001b[0;32m~/anaconda3/lib/python3.11/site-packages/pandas/_config/config.py:263\u001b[0m, in \u001b[0;36mCallableDynamicDoc.__call__\u001b[0;34m(self, *args, **kwds)\u001b[0m\n\u001b[1;32m    262\u001b[0m \u001b[38;5;28;01mdef\u001b[39;00m \u001b[38;5;21m__call__\u001b[39m(\u001b[38;5;28mself\u001b[39m, \u001b[38;5;241m*\u001b[39margs, \u001b[38;5;241m*\u001b[39m\u001b[38;5;241m*\u001b[39mkwds) \u001b[38;5;241m-\u001b[39m\u001b[38;5;241m>\u001b[39m T:\n\u001b[0;32m--> 263\u001b[0m     \u001b[38;5;28;01mreturn\u001b[39;00m \u001b[38;5;28mself\u001b[39m\u001b[38;5;241m.\u001b[39m\u001b[38;5;18m__func__\u001b[39m(\u001b[38;5;241m*\u001b[39margs, \u001b[38;5;241m*\u001b[39m\u001b[38;5;241m*\u001b[39mkwds)\n",
      "File \u001b[0;32m~/anaconda3/lib/python3.11/site-packages/pandas/_config/config.py:156\u001b[0m, in \u001b[0;36m_set_option\u001b[0;34m(*args, **kwargs)\u001b[0m\n\u001b[1;32m    153\u001b[0m     \u001b[38;5;28;01mraise\u001b[39;00m \u001b[38;5;167;01mTypeError\u001b[39;00m(\u001b[38;5;124mf\u001b[39m\u001b[38;5;124m'\u001b[39m\u001b[38;5;124m_set_option() got an unexpected keyword argument \u001b[39m\u001b[38;5;124m\"\u001b[39m\u001b[38;5;132;01m{\u001b[39;00mkwarg\u001b[38;5;132;01m}\u001b[39;00m\u001b[38;5;124m\"\u001b[39m\u001b[38;5;124m'\u001b[39m)\n\u001b[1;32m    155\u001b[0m \u001b[38;5;28;01mfor\u001b[39;00m k, v \u001b[38;5;129;01min\u001b[39;00m \u001b[38;5;28mzip\u001b[39m(args[::\u001b[38;5;241m2\u001b[39m], args[\u001b[38;5;241m1\u001b[39m::\u001b[38;5;241m2\u001b[39m]):\n\u001b[0;32m--> 156\u001b[0m     key \u001b[38;5;241m=\u001b[39m _get_single_key(k, silent)\n\u001b[1;32m    158\u001b[0m     o \u001b[38;5;241m=\u001b[39m _get_registered_option(key)\n\u001b[1;32m    159\u001b[0m     \u001b[38;5;28;01mif\u001b[39;00m o \u001b[38;5;129;01mand\u001b[39;00m o\u001b[38;5;241m.\u001b[39mvalidator:\n",
      "File \u001b[0;32m~/anaconda3/lib/python3.11/site-packages/pandas/_config/config.py:123\u001b[0m, in \u001b[0;36m_get_single_key\u001b[0;34m(pat, silent)\u001b[0m\n\u001b[1;32m    121\u001b[0m     \u001b[38;5;28;01mraise\u001b[39;00m OptionError(\u001b[38;5;124mf\u001b[39m\u001b[38;5;124m\"\u001b[39m\u001b[38;5;124mNo such keys(s): \u001b[39m\u001b[38;5;132;01m{\u001b[39;00m\u001b[38;5;28mrepr\u001b[39m(pat)\u001b[38;5;132;01m}\u001b[39;00m\u001b[38;5;124m\"\u001b[39m)\n\u001b[1;32m    122\u001b[0m \u001b[38;5;28;01mif\u001b[39;00m \u001b[38;5;28mlen\u001b[39m(keys) \u001b[38;5;241m>\u001b[39m \u001b[38;5;241m1\u001b[39m:\n\u001b[0;32m--> 123\u001b[0m     \u001b[38;5;28;01mraise\u001b[39;00m OptionError(\u001b[38;5;124m\"\u001b[39m\u001b[38;5;124mPattern matched multiple keys\u001b[39m\u001b[38;5;124m\"\u001b[39m)\n\u001b[1;32m    124\u001b[0m key \u001b[38;5;241m=\u001b[39m keys[\u001b[38;5;241m0\u001b[39m]\n\u001b[1;32m    126\u001b[0m \u001b[38;5;28;01mif\u001b[39;00m \u001b[38;5;129;01mnot\u001b[39;00m silent:\n",
      "\u001b[0;31mOptionError\u001b[0m: Pattern matched multiple keys"
     ]
    }
   ],
   "source": [
    "# show all rows, all columns\n",
    "pd.set_option(\"max_rows\", None)\n",
    "pd.set_option(\"max_columns\", None)\n",
    "pd.set_option('max_colwidth', None)"
   ]
  },
  {
   "cell_type": "markdown",
   "id": "5b454234",
   "metadata": {},
   "source": [
    "Satellite data storage requires an important amount of disk space, especially high resolution products such as the ones produced by the Sentinel constellation. This also represents an economical cost. Hence, it is very important to keep track of the total volume of data stored at MET Norway premises. In this section those numbers are shown."
   ]
  },
  {
   "cell_type": "markdown",
   "id": "c0bcce62-4e04-460d-9304-a519f0b8b5a8",
   "metadata": {},
   "source": [
    "## Volumes for AOI backends"
   ]
  },
  {
   "cell_type": "markdown",
   "id": "fa668d14",
   "metadata": {},
   "source": [
    "Two type of products can be differentiated, products acquired from ESA datahub which keep the original format and Sentinel products transformed into NetCDF. Those directly acquired from ESA are store at MET Norway BE for the AOI. Later on, they are made available to users through colhub-archive and colhub FEs."
   ]
  },
  {
   "cell_type": "code",
   "execution_count": null,
   "id": "3b840e77",
   "metadata": {
    "jupyter": {
     "source_hidden": true
    },
    "tags": [
     "remove-input"
    ]
   },
   "outputs": [],
   "source": [
    "logsdir = pathlib.Path('../data')"
   ]
  },
  {
   "cell_type": "code",
   "execution_count": null,
   "id": "fda79463-b51f-4daf-98d5-972442ca5ec4",
   "metadata": {
    "jupyter": {
     "source_hidden": true
    },
    "tags": [
     "remove-input"
    ]
   },
   "outputs": [],
   "source": [
    "def read_dhus_logs_details(file):\n",
    "    data = pd.read_csv(file, header=None, names=['day', 'product_type', 'action', 'volume', 'number', 'timeliness']\\\n",
    "                        , parse_dates=['day'], index_col=['day'])\n",
    "    return data"
   ]
  },
  {
   "cell_type": "code",
   "execution_count": null,
   "id": "d57df1b8-d80b-432c-9bde-e62e5cf4ebf1",
   "metadata": {
    "jupyter": {
     "source_hidden": true
    },
    "tags": [
     "remove-input"
    ]
   },
   "outputs": [],
   "source": [
    "data_s1 = read_dhus_logs_details(logsdir / 'S1-backend-AOI_inputs.csv')\n",
    "data_s2l1c = read_dhus_logs_details(logsdir / 'S2L1C-backend-AOI_inputs.csv')\n",
    "data_s2l2a = read_dhus_logs_details(logsdir / 'S2L2A-backend-AOI_inputs.csv')\n",
    "data_s3 = read_dhus_logs_details(logsdir / 'S3-backend-AOI_inputs.csv')\n",
    "#data_s2dterr = read_dhus_logs_details(logsdir / 'S2DEM-backend-global_inputs.csv')\n",
    "data_s5 = read_dhus_logs_details(logsdir / 'S5p-backend-AOI_inputs.csv')\n",
    "all_colhub = data_s1.append(data_s2l1c).append(data_s2l2a).append(data_s3).append(data_s5)"
   ]
  },
  {
   "cell_type": "code",
   "execution_count": null,
   "id": "be522124-8ec4-467a-b045-78e7d27f394a",
   "metadata": {
    "jupyter": {
     "source_hidden": true
    },
    "tags": [
     "remove-input"
    ]
   },
   "outputs": [],
   "source": [
    "total_vol_be = all_colhub[\"volume\"].sum()/1024"
   ]
  },
  {
   "cell_type": "code",
   "execution_count": null,
   "id": "0b50c2a3",
   "metadata": {
    "tags": [
     "remove-input"
    ]
   },
   "outputs": [],
   "source": [
    "md(\"The total amount of Sentinel products for the AOI, located in the AOI BE, represents {} Tb\".format(int(total_vol_be)))"
   ]
  },
  {
   "cell_type": "code",
   "execution_count": null,
   "id": "a324a1eb-5fb2-4080-81fa-19fb18e88be8",
   "metadata": {
    "jupyter": {
     "source_hidden": true
    },
    "tags": [
     "remove-input"
    ]
   },
   "outputs": [],
   "source": [
    "# Last year (volumes in Gb)\n",
    "lately = all_colhub[all_colhub.index >= dt.datetime.today() - dt.timedelta(days=360)]\n",
    "(lately.groupby(lately.index).sum()['volume']).plot(ylabel='Volumes in Gb')\n",
    "plt.grid(True)"
   ]
  },
  {
   "cell_type": "markdown",
   "id": "eb734ab3",
   "metadata": {},
   "source": [
    "In the graphic above the volume of data per day in Gb is shown for the last year. Here we can observed seasonality due to optical sensor products. The table below shows the same information for the lsat 30 days."
   ]
  },
  {
   "cell_type": "code",
   "execution_count": null,
   "id": "4fbfadf4",
   "metadata": {
    "jupyter": {
     "source_hidden": true
    },
    "tags": [
     "remove-input"
    ]
   },
   "outputs": [],
   "source": [
    "# Last month (volumes in Gb)\n",
    "lately = all_colhub[all_colhub.index >= dt.datetime.today() - dt.timedelta(days=30)]\n",
    "(lately.groupby(lately.index).sum()['volume']).plot(ylabel='Volumes in Gb')\n",
    "plt.grid(True)"
   ]
  },
  {
   "cell_type": "markdown",
   "id": "1cf670a9-53dc-4a40-99d8-b9c106a53e7f",
   "metadata": {},
   "source": [
    "## Volume for netcdf products"
   ]
  },
  {
   "cell_type": "markdown",
   "id": "fe6f92f7",
   "metadata": {},
   "source": [
    "The products converted to NetCDF are S1 and S2 products. These Sentinel datasets are served as SAFE format by ESA. This is not always convinient for users. Therefore as part of the NBS project, one of the MET Norway tasks as operator is to translate those products into NetCDF."
   ]
  },
  {
   "cell_type": "code",
   "execution_count": null,
   "id": "c07aaf52-f110-41c9-b0ac-a5e78c7ed4b3",
   "metadata": {
    "jupyter": {
     "source_hidden": true
    },
    "tags": [
     "remove-input"
    ]
   },
   "outputs": [],
   "source": [
    "csvfile = pathlib.Path('../data/nb_products_volume_per_sensing_date.csv')"
   ]
  },
  {
   "cell_type": "code",
   "execution_count": null,
   "id": "289d0536-ace7-42a1-b321-77489cd257b5",
   "metadata": {
    "jupyter": {
     "source_hidden": true
    },
    "tags": [
     "remove-input"
    ]
   },
   "outputs": [],
   "source": [
    "def read_csv(file):\n",
    "    data_tmp = pd.read_csv(file, header=None, names=['product_type', 'day', 'number', 'volume'], parse_dates=['day'], sep=';')\n",
    "    # If several sensing date exist, keep the numbers only for the most recent script run (ie highest day index)\n",
    "    data_clean = copy.deepcopy(data_tmp.drop_duplicates(subset=['product_type', 'day'], keep='last')).set_index('day').sort_index()\n",
    "    data_clean['volume'] = data_clean['volume']/1024./1024\n",
    "    return data_clean"
   ]
  },
  {
   "cell_type": "code",
   "execution_count": null,
   "id": "5dfe4da8-b936-4a8d-a619-2a1f802e2f20",
   "metadata": {
    "jupyter": {
     "source_hidden": true
    },
    "tags": [
     "remove-input"
    ]
   },
   "outputs": [],
   "source": [
    "all_netcdf = read_csv(csvfile)"
   ]
  },
  {
   "cell_type": "code",
   "execution_count": null,
   "id": "5b2cac47-373a-4ee9-b320-40e2dd4b3dd0",
   "metadata": {
    "jupyter": {
     "source_hidden": true
    },
    "tags": [
     "remove-input"
    ]
   },
   "outputs": [],
   "source": [
    "# Total volume in Tb\n",
    "total_nc = all_netcdf.sum()['volume']/1024"
   ]
  },
  {
   "cell_type": "code",
   "execution_count": null,
   "id": "cd5efacf",
   "metadata": {
    "tags": [
     "remove-input"
    ]
   },
   "outputs": [],
   "source": [
    "md(\"The total amount of Sentinel-1 and Sentinel-2 products for the AOI transformed to NetCDF represents {} Tb\".format(int(total_nc)))"
   ]
  },
  {
   "cell_type": "code",
   "execution_count": null,
   "id": "015fb5a1-e32a-476a-b252-b04575b2de70",
   "metadata": {
    "jupyter": {
     "source_hidden": true
    },
    "tags": [
     "remove-input"
    ]
   },
   "outputs": [],
   "source": [
    "# Last year (volumes in Gb)\n",
    "lately = all_netcdf[all_netcdf.index >= dt.datetime.today() - dt.timedelta(days=360)]\n",
    "lately.groupby(lately.index).sum()['volume'].plot(ylabel='Volumes in Gb')\n",
    "plt.grid(True)"
   ]
  },
  {
   "cell_type": "markdown",
   "id": "27e00020",
   "metadata": {},
   "source": [
    "In the graphic above the volume of NetCDF data per day in Gb is shown for the last year. Here we can observed seasonality due to optical sensor products. The table below shows the same information for the lsat 30 days."
   ]
  },
  {
   "cell_type": "code",
   "execution_count": null,
   "id": "9aab8f9d",
   "metadata": {
    "jupyter": {
     "source_hidden": true
    },
    "tags": [
     "remove-input"
    ]
   },
   "outputs": [],
   "source": [
    "#last month\n",
    "lately = all_netcdf[all_netcdf.index >= dt.datetime.today() - dt.timedelta(days=30)]\n",
    "lately.groupby(lately.index).sum()['volume'].plot(ylabel='Volumes in Gb')\n",
    "plt.grid(True)"
   ]
  },
  {
   "cell_type": "markdown",
   "id": "d37852ab-ae70-4a47-b431-1dcdb77b614f",
   "metadata": {},
   "source": [
    "## Totals"
   ]
  },
  {
   "cell_type": "code",
   "execution_count": null,
   "id": "eecec65f-ade6-47f6-943b-045afec0c934",
   "metadata": {
    "jupyter": {
     "source_hidden": true
    },
    "tags": [
     "remove-input"
    ]
   },
   "outputs": [],
   "source": [
    "all = pd.concat([all_colhub, all_netcdf])\n",
    "total_total = total_nc + total_vol_be"
   ]
  },
  {
   "cell_type": "code",
   "execution_count": null,
   "id": "7f7fbf81",
   "metadata": {
    "tags": [
     "remove-input"
    ]
   },
   "outputs": [],
   "source": [
    "md(\"Finally, the total amount of disk space dedicated to the NBS project, including either products in SAFE and NetCDF formats, represents {} Tb\".format(int(total_total)))"
   ]
  },
  {
   "cell_type": "code",
   "execution_count": null,
   "id": "2d48328f-3e4e-4335-a3f3-164857aba247",
   "metadata": {
    "jupyter": {
     "source_hidden": true
    },
    "tags": [
     "remove-input"
    ]
   },
   "outputs": [],
   "source": [
    "# Last year (volumes in Gb)\n",
    "lately = all[all.index >= dt.datetime.today() - dt.timedelta(days=360)]\n",
    "lately.groupby(lately.index).sum()['volume'].plot(ylabel='Volumes in Gb')\n",
    "plt.grid(True)"
   ]
  },
  {
   "cell_type": "markdown",
   "id": "bf707e1c",
   "metadata": {},
   "source": [
    "In the graphic above the total volume of data per day in Gb is shown for the last year. Here we can observed seasonality due to optical sensor products again. The table below shows the same information for the last 30 days."
   ]
  },
  {
   "cell_type": "code",
   "execution_count": null,
   "id": "bb70b205-ae6d-4eb7-bb43-d78c5f39299f",
   "metadata": {
    "jupyter": {
     "source_hidden": true
    },
    "tags": [
     "remove-input"
    ]
   },
   "outputs": [],
   "source": [
    "# Monthly volumes (in Tb)\n",
    "lately = all[all.index >= dt.datetime.today() - dt.timedelta(days=30)]\n",
    "lately.groupby(lately.index.month).sum()['volume']/1024.\n",
    "lately"
   ]
  },
  {
   "cell_type": "code",
   "execution_count": null,
   "id": "e39f7b9f-9555-4abd-8fac-fa51e9e83684",
   "metadata": {},
   "outputs": [],
   "source": []
  }
 ],
 "metadata": {
  "celltoolbar": "Edit Metadata",
  "kernelspec": {
   "display_name": "Python 3 (ipykernel)",
   "language": "python",
   "name": "python3"
  },
  "language_info": {
   "codemirror_mode": {
    "name": "ipython",
    "version": 3
   },
   "file_extension": ".py",
   "mimetype": "text/x-python",
   "name": "python",
   "nbconvert_exporter": "python",
   "pygments_lexer": "ipython3",
   "version": "3.11.4"
  }
 },
 "nbformat": 4,
 "nbformat_minor": 5
}