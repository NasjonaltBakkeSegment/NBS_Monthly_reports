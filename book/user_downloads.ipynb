{
 "cells": [
  {
   "cell_type": "markdown",
   "id": "f6b66808-7293-439a-a8b9-2285b16c3330",
   "metadata": {},
   "source": [
    "# Monitoring data downloads from colhub portals"
   ]
  },
  {
   "cell_type": "code",
   "execution_count": null,
   "id": "40f6f1c3-9fc5-4e77-b99c-cd48bf5062d1",
   "metadata": {
    "jupyter": {
     "source_hidden": true
    },
    "tags": [
     "remove-input"
    ]
   },
   "outputs": [],
   "source": [
    "import pathlib\n",
    "import datetime as dt\n",
    "import pandas as pd\n",
    "import matplotlib.pyplot as plt\n",
    "import matplotlib.dates as mdates\n",
    "import copy\n",
    "from IPython.display import Markdown as md\n",
    "\n",
    "plt.rcParams[\"figure.figsize\"] = (20,15)\n",
    "plt.rcParams.update({'font.size': 22})"
   ]
  },
  {
   "cell_type": "code",
   "execution_count": null,
   "id": "25ce9a2a-815e-49cc-9196-8c49abd004f4",
   "metadata": {
    "jupyter": {
     "source_hidden": true
    },
    "tags": [
     "remove-input"
    ]
   },
   "outputs": [],
   "source": [
    "# show all rows, all columns\n",
    "pd.set_option(\"display.max_rows\", None)\n",
    "pd.set_option(\"display.max_columns\", None)\n",
    "pd.set_option('display.max_colwidth', None)"
   ]
  },
  {
   "cell_type": "code",
   "execution_count": null,
   "id": "5acf2383-aa77-4176-ae7f-4584cf4e4b66",
   "metadata": {
    "jupyter": {
     "source_hidden": true
    },
    "tags": [
     "remove-input"
    ]
   },
   "outputs": [],
   "source": [
    "logsdir = pathlib.Path('../data')"
   ]
  },
  {
   "cell_type": "code",
   "execution_count": null,
   "id": "5563aadf-68b1-454d-8c34-19b41390f162",
   "metadata": {
    "jupyter": {
     "source_hidden": true
    },
    "tags": [
     "remove-input"
    ]
   },
   "outputs": [],
   "source": [
    "def get_product_type(product):\n",
    "    \"\"\" From a product title, get it's type \"\"\"\n",
    "    tipe = 'Unknown'\n",
    "    try:\n",
    "        if product[0:2] == 'S1':\n",
    "            tipe = product.split('_')[2]\n",
    "        elif product[0:2] == 'S2':\n",
    "            tipe = product.split('_')[1]\n",
    "            if not tipe.startswith('M'):\n",
    "                tipe = 'Unknown'\n",
    "        elif product[0:2] == 'S3':\n",
    "            tmp = product.split('_')\n",
    "            if tmp[1] == 'SL':\n",
    "                tipe = 'SLSTR_L' + tmp[2]\n",
    "            elif tmp[1] == 'SR':\n",
    "                tipe = 'SRAL_L' + tmp[2]\n",
    "            elif tmp[1] == 'OL':\n",
    "                tipe = 'OLCI_L' + tmp[2]\n",
    "            elif tmp[1] == 'SY':\n",
    "                tipe = 'SYN_L' + tmp[2]\n",
    "        elif product[0:2] == 'S5':\n",
    "            tmp = product.split('_')\n",
    "            if tmp[1] == 'OFFL':\n",
    "                tipe = 'OFFL_' + tmp[2]\n",
    "            elif tmp[1] == 'NRTI':\n",
    "                tipe = 'NRTI_' + tmp[2]\n",
    "        if 'DTERRENG' in product:\n",
    "            tipe = tipe + '_DTERRENG'\n",
    "    except TypeError:\n",
    "        tipe = 'Unknown'\n",
    "    return tipe"
   ]
  },
  {
   "cell_type": "code",
   "execution_count": null,
   "id": "182dc3f4-6c6a-4aeb-abde-9ddb95c1f38c",
   "metadata": {
    "jupyter": {
     "source_hidden": true
    },
    "tags": [
     "remove-input"
    ]
   },
   "outputs": [],
   "source": [
    "def get_data(file):\n",
    "    data = pd.read_csv(file, usecols=[0,1,2,3,4], header=None, names=['download_time', 'user', 'product', 'size', 'download_duration']\\\n",
    "                        , parse_dates=['download_time'], index_col='download_time')\n",
    "    data['satellite'] = data['product'].apply(lambda x: x[0:2])\n",
    "    data['product_type'] = data['product'].apply(get_product_type)\n",
    "    return data[data['product_type'] != 'Unknown']"
   ]
  },
  {
   "cell_type": "markdown",
   "id": "c39dd1e9",
   "metadata": {},
   "source": [
    "In this section the perfomance of the FrontEnds is analyzed, for both colhub.met.no and colhub-archive.met.no. The FEs perfomance is translated as user accesibility to the data which is one of the main goals for the project. "
   ]
  },
  {
   "cell_type": "markdown",
   "id": "40d016e7-71a2-46ad-b62c-70cb21b501ba",
   "metadata": {},
   "source": [
    "## Portal: colhub.met.no"
   ]
  },
  {
   "cell_type": "code",
   "execution_count": null,
   "id": "b2545541-8328-4838-917c-ab4da2176d19",
   "metadata": {
    "jupyter": {
     "source_hidden": true
    },
    "tags": [
     "remove-input"
    ]
   },
   "outputs": [],
   "source": [
    "csvfile = logsdir / 'NBS_frontend-global_outputs.csv'\n",
    "nbs_global = get_data(csvfile)"
   ]
  },
  {
   "cell_type": "markdown",
   "id": "19fb8dcd",
   "metadata": {},
   "source": [
    "The first portal to analyze is colhub.met.no. The target of the analysis is to check the amount of data downloaded by users, but also the number of users accessing the datahub. Below the historical amount of data per day is represented."
   ]
  },
  {
   "cell_type": "code",
   "execution_count": null,
   "id": "75eb4af6-87f4-470a-a3f5-6ab9f2b1f405",
   "metadata": {
    "jupyter": {
     "source_hidden": true
    },
    "tags": [
     "remove-input"
    ]
   },
   "outputs": [],
   "source": [
    "# Number of products downloaded per day\n",
    "nbs_global.groupby(nbs_global.index.date).count()['product_type'].plot(ylabel='Number of products', rot=70)\n",
    "plt.grid(True)"
   ]
  },
  {
   "cell_type": "markdown",
   "id": "052f71cb",
   "metadata": {},
   "source": [
    "The same data is also represented below, with a difference. This time the data is not accounted by numer, but by volume. Although both graphs show similar trends, they are not exactly equal due to the variability in the ratio volume per product. For instance, the seasonality of optical products could have an impact in the total volume of products."
   ]
  },
  {
   "cell_type": "code",
   "execution_count": null,
   "id": "48b5d7b1-8a83-418c-b9e4-47d6ca3bb58d",
   "metadata": {
    "jupyter": {
     "source_hidden": true
    },
    "tags": [
     "remove-input"
    ]
   },
   "outputs": [],
   "source": [
    "# Volume downloaded per day (in Tb)\n",
    "total = nbs_global.groupby(nbs_global.index.date).sum(numeric_only=True)['size']/1024/1024/1024/1024\n",
    "total.plot(ylabel='Volume downloaded in Tb', rot=70)\n",
    "plt.grid(True)"
   ]
  },
  {
   "cell_type": "markdown",
   "id": "a1747284",
   "metadata": {},
   "source": [
    "The table below is also interesting. It shows the amount of products downloaded for each the different Sentinel products. As expected, S1 and S2 are the most used Sentinels. S3 is slightly used, while S5p is not used."
   ]
  },
  {
   "cell_type": "code",
   "execution_count": null,
   "id": "b74ffa18-56cf-46d6-866c-4f02896ca411",
   "metadata": {
    "jupyter": {
     "source_hidden": true
    },
    "tags": [
     "remove-input"
    ]
   },
   "outputs": [],
   "source": [
    "# Nb of products downloaded per satellite / product\n",
    "col_table1 = nbs_global.groupby(['satellite', 'product_type']).size()\n",
    "col_table1"
   ]
  },
  {
   "cell_type": "markdown",
   "id": "8ac8608e",
   "metadata": {},
   "source": [
    "The following table shows the total downloaded volume of data in Tb per month. Here the seasonality of some Sentinel products can affect the final numbers."
   ]
  },
  {
   "cell_type": "code",
   "execution_count": null,
   "id": "27d51f35-9db7-43ac-9fee-edf5b91b87fe",
   "metadata": {
    "jupyter": {
     "source_hidden": true
    },
    "tags": [
     "remove-input"
    ]
   },
   "outputs": [],
   "source": [
    "# Monthly total retrieval in Tb\n",
    "col_table2 = nbs_global.groupby([nbs_global.index.year, nbs_global.index.month]).sum(numeric_only=True)['size']/1024/1024/1024/1024\n",
    "col_table2"
   ]
  },
  {
   "cell_type": "markdown",
   "id": "0589d253",
   "metadata": {},
   "source": [
    "The number of users accessing and using the datahub is also important to be known. The plot below show the number of users per day. Some variability is represented in its numbers. Nevertheless, colhub.met.no is used by 15 to 20 users per day. "
   ]
  },
  {
   "cell_type": "code",
   "execution_count": null,
   "id": "78ffae4d-5db2-42ba-8881-561246a688b0",
   "metadata": {
    "jupyter": {
     "source_hidden": true
    },
    "tags": [
     "remove-input"
    ]
   },
   "outputs": [],
   "source": [
    "# Number of unique users that downloaded each day\n",
    "nbs_global.groupby(nbs_global.index.date).agg({\"user\": \"nunique\"}).plot(ylabel='Number of unique users')\n",
    "plt.grid(True)"
   ]
  },
  {
   "cell_type": "markdown",
   "id": "e7e09edf",
   "metadata": {},
   "source": [
    "## Portal: colhub-archive.met.no"
   ]
  },
  {
   "cell_type": "code",
   "execution_count": null,
   "id": "d75210b0",
   "metadata": {
    "jupyter": {
     "source_hidden": true
    },
    "tags": [
     "remove-input"
    ]
   },
   "outputs": [],
   "source": [
    "csvfile = logsdir / 'NBS_frontend-AOI_outputs.csv'\n",
    "nbs_AOI = get_data(csvfile)"
   ]
  },
  {
   "cell_type": "markdown",
   "id": "9ca63f24",
   "metadata": {},
   "source": [
    "Similar to colhub.met.no, here it is presented the performance of colhub-archive.met.no. First the number of products downloaded per day. As shown in the plot below, some days the number of products downloaded is null. This is a correct value which is not reflecting the performance of the FE. The archive is not as frequently accessed as colhub.met.no. Only those users looking for historical data will used this portal."
   ]
  },
  {
   "cell_type": "code",
   "execution_count": null,
   "id": "d504b6f1-1a01-40ee-aac3-06d633f2b1db",
   "metadata": {
    "jupyter": {
     "source_hidden": true
    },
    "tags": [
     "remove-input"
    ]
   },
   "outputs": [],
   "source": [
    "# Number of products downloaded per day\n",
    "nbs_AOI.groupby(nbs_AOI.index.date).count()['product_type'].plot(ylabel='Number of products', rot=70)\n",
    "plt.grid(True)"
   ]
  },
  {
   "cell_type": "markdown",
   "id": "297d9892",
   "metadata": {},
   "source": [
    "As explained and shown in the previous section, the total volume downloaded is also shown in the graphic below.  "
   ]
  },
  {
   "cell_type": "code",
   "execution_count": null,
   "id": "828de7ed-7033-40e1-a398-5629da9d9ff3",
   "metadata": {
    "jupyter": {
     "source_hidden": true
    },
    "tags": [
     "remove-input"
    ]
   },
   "outputs": [],
   "source": [
    "# Volume downloaded per day (in Tb)\n",
    "total = nbs_AOI.groupby(nbs_AOI.index.date).sum(numeric_only=True)['size']/1024/1024/1024/1024\n",
    "total.plot(ylabel='Volume downloaded in Tb', rot=70)\n",
    "plt.grid(True)"
   ]
  },
  {
   "cell_type": "markdown",
   "id": "4d18c960",
   "metadata": {},
   "source": [
    "It is still interesting to see the number of products downloaded per product type. As shown in the previous section, S1 and S2 still are the most popular Sentinels."
   ]
  },
  {
   "cell_type": "code",
   "execution_count": null,
   "id": "85eeba2d-da20-4f1b-9728-56cf9828c051",
   "metadata": {
    "jupyter": {
     "source_hidden": true
    },
    "tags": [
     "remove-input"
    ]
   },
   "outputs": [],
   "source": [
    "# Nb of products downloaded per satellite / product\n",
    "col_table3 = nbs_AOI.groupby(['satellite', 'product_type']).size()\n",
    "col_table3"
   ]
  },
  {
   "cell_type": "markdown",
   "id": "111c0076",
   "metadata": {},
   "source": [
    "The table below shows the monthly retrieved volume of data in Tb."
   ]
  },
  {
   "cell_type": "code",
   "execution_count": null,
   "id": "429baee4-208a-4994-b8fd-7fd4b9322f3e",
   "metadata": {
    "jupyter": {
     "source_hidden": true
    },
    "tags": [
     "remove-input"
    ]
   },
   "outputs": [],
   "source": [
    "# Monthly total retrieval in Tb\n",
    "col_table4 = nbs_AOI.groupby([nbs_AOI.index.year, nbs_AOI.index.month_name()]).sum(numeric_only=True)['size']/1024/1024/1024/1024\n",
    "col_table4"
   ]
  },
  {
   "cell_type": "markdown",
   "id": "3a07a978",
   "metadata": {},
   "source": [
    "The last graphic show the number of users accessing and downloading data from the portal. Again, the discontinuity in numbers of users it is not a sign of the portal performance."
   ]
  },
  {
   "cell_type": "code",
   "execution_count": null,
   "id": "25745abf-0cb1-46c1-b1af-66680b58dd25",
   "metadata": {
    "jupyter": {
     "source_hidden": true
    },
    "tags": [
     "remove-input"
    ]
   },
   "outputs": [],
   "source": [
    "# Number of unique users that downloaded each day\n",
    "nbs_AOI.groupby(nbs_AOI.index.date).agg({\"user\": \"nunique\"}).plot(ylabel='Number of unique users', rot=70)\n",
    "plt.grid(True)"
   ]
  },
  {
   "cell_type": "code",
   "execution_count": null,
   "id": "d3dd8f9c-343e-4e28-9ed8-5f883c0a4ad4",
   "metadata": {},
   "outputs": [],
   "source": []
  }
 ],
 "metadata": {
  "celltoolbar": "Edit Metadata",
  "kernelspec": {
   "display_name": "Python 3 (ipykernel)",
   "language": "python",
   "name": "python3"
  },
  "language_info": {
   "codemirror_mode": {
    "name": "ipython",
    "version": 3
   },
   "file_extension": ".py",
   "mimetype": "text/x-python",
   "name": "python",
   "nbconvert_exporter": "python",
   "pygments_lexer": "ipython3",
   "version": "3.7.6"
  }
 },
 "nbformat": 4,
 "nbformat_minor": 5
}
